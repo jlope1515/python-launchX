{
 "cells": [
  {
   "cell_type": "markdown",
   "metadata": {},
   "source": [
    "## Ejercicio: Uso de funciones en Python"
   ]
  },
  {
   "cell_type": "code",
   "execution_count": 7,
   "metadata": {},
   "outputs": [],
   "source": [
    "def fuel():\n",
    "    tanque1 = int(input('Combustible tanque 1: '))\n",
    "    tanque2 = int(input('Combustible tanque 2: '))\n",
    "    tanque3 = int(input('Combustible tanque 3: '))\n",
    "    return (tanque1+tanque2+tanque3)/3"
   ]
  },
  {
   "cell_type": "code",
   "execution_count": 8,
   "metadata": {},
   "outputs": [
    {
     "name": "stdout",
     "output_type": "stream",
     "text": [
      "0.0\n"
     ]
    }
   ],
   "source": [
    "print(fuel())"
   ]
  },
  {
   "cell_type": "code",
   "execution_count": 9,
   "metadata": {},
   "outputs": [],
   "source": [
    "def promedio(x1,x2,x3):\n",
    "    return (x1+x2+x3)/3"
   ]
  },
  {
   "cell_type": "code",
   "execution_count": 10,
   "metadata": {},
   "outputs": [],
   "source": [
    "def fuel():\n",
    "    tanque1 = int(input('Combustible tanque 1: '))\n",
    "    tanque2 = int(input('Combustible tanque 2: '))\n",
    "    tanque3 = int(input('Combustible tanque 3: '))\n",
    "    return promedio(tanque1,tanque2,tanque3)"
   ]
  },
  {
   "cell_type": "code",
   "execution_count": 11,
   "metadata": {},
   "outputs": [
    {
     "data": {
      "text/plain": [
       "0.0"
      ]
     },
     "execution_count": 11,
     "metadata": {},
     "output_type": "execute_result"
    }
   ],
   "source": [
    "fuel()"
   ]
  },
  {
   "cell_type": "markdown",
   "metadata": {},
   "source": [
    "## Ejercicio 2: Trabajo con argumentos de palabra clave"
   ]
  },
  {
   "cell_type": "code",
   "execution_count": 12,
   "metadata": {},
   "outputs": [
    {
     "name": "stdout",
     "output_type": "stream",
     "text": [
      "\"\n",
      "    Mision a Luna\n",
      "    Tiempo total: 65 minutos\n",
      "    Combustible: 500000 galones\n",
      "    \n"
     ]
    }
   ],
   "source": [
    "def reporte(tiempo_prelanzamiento, tiempo_vuelo, destino, tanque_externo, tanque_principal):\n",
    "    return f\"\"\"\"\n",
    "    Mision a {destino}\n",
    "    Tiempo total: {tiempo_prelanzamiento + tiempo_vuelo} minutos\n",
    "    Combustible: {tanque_externo + tanque_principal} galones\n",
    "    \"\"\"\n",
    "\n",
    "print(reporte(14, 51, \"Luna\", 200000, 300000))"
   ]
  },
  {
   "cell_type": "code",
   "execution_count": 14,
   "metadata": {},
   "outputs": [
    {
     "name": "stdout",
     "output_type": "stream",
     "text": [
      "\n",
      "    Mision a Luna\n",
      "    Tiempo total: 76 minutos\n",
      "    Combustible: 500000\n",
      "    \n"
     ]
    }
   ],
   "source": [
    "def reporte(destino, *minutos, **tanques_combustible):\n",
    "    return f\"\"\"\n",
    "    Mision a {destino}\n",
    "    Tiempo total: {sum(minutos)} minutos\n",
    "    Combustible: {sum(tanques_combustible.values())}\n",
    "    \"\"\"\n",
    "\n",
    "print(reporte(\"Luna\", 10, 15, 51, principal=300000, externo=200000))"
   ]
  },
  {
   "cell_type": "code",
   "execution_count": 16,
   "metadata": {},
   "outputs": [
    {
     "name": "stdout",
     "output_type": "stream",
     "text": [
      "\n",
      "    Mision a Luna\n",
      "    Tiempo total: 74 minutos\n",
      "    Combustible: 500000\n",
      "    principal tanque -> 300000 galones restantes\n",
      "externo tanque -> 200000 galones restantes\n",
      "\n"
     ]
    }
   ],
   "source": [
    "def reporte(destino, *minutos, **tanques_combustible):\n",
    "    reporte_principal = f\"\"\"\n",
    "    Mision a {destino}\n",
    "    Tiempo total: {sum(minutos)} minutos\n",
    "    Combustible: {sum(tanques_combustible.values())}\n",
    "    \"\"\"\n",
    "    for nombre_tanque, galones in tanques_combustible.items():\n",
    "        reporte_principal += f\"{nombre_tanque} tanque -> {galones} galones restantes\\n\"\n",
    "    return reporte_principal\n",
    "\n",
    "print(reporte(\"Luna\", 8, 11, 55, principal=300000, externo=200000))"
   ]
  }
 ],
 "metadata": {
  "interpreter": {
   "hash": "072e6ece12c03a8c8a416be98a144879d642a63e2f6bda67666f5c51fb88dc93"
  },
  "kernelspec": {
   "display_name": "Python 3.8.3 ('base')",
   "language": "python",
   "name": "python3"
  },
  "language_info": {
   "codemirror_mode": {
    "name": "ipython",
    "version": 3
   },
   "file_extension": ".py",
   "mimetype": "text/x-python",
   "name": "python",
   "nbconvert_exporter": "python",
   "pygments_lexer": "ipython3",
   "version": "3.8.3"
  },
  "orig_nbformat": 4
 },
 "nbformat": 4,
 "nbformat_minor": 2
}
