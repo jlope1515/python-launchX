{
 "cells": [
  {
   "cell_type": "markdown",
   "metadata": {},
   "source": [
    "## Ejercicio1 - Utilizar operadores aritméticos"
   ]
  },
  {
   "cell_type": "code",
   "execution_count": 1,
   "metadata": {},
   "outputs": [
    {
     "name": "stdout",
     "output_type": "stream",
     "text": [
      "Distancia en km : 628949330 \n",
      "Distancia en millas : 1012195830.53952 \n"
     ]
    }
   ],
   "source": [
    "dist_tierra = 149597870 #km\n",
    "dist_jupiter = 778547200 #km\n",
    "conv = 1.609344 # km a millas\n",
    "\n",
    "distancia = abs(dist_tierra-dist_jupiter) # distancia en km\n",
    "\n",
    "print(f'Distancia en km : {distancia} ')\n",
    "print(f'Distancia en millas : {distancia*conv} ')"
   ]
  },
  {
   "cell_type": "markdown",
   "metadata": {},
   "source": [
    "## Ejercicio 2: convierte cadenas en números y usa valores absolutos"
   ]
  },
  {
   "cell_type": "code",
   "execution_count": 2,
   "metadata": {},
   "outputs": [
    {
     "name": "stdout",
     "output_type": "stream",
     "text": [
      "Hola Jorge, la distancia en km entre los planetas es 20, y en millas es 32.18688\n"
     ]
    }
   ],
   "source": [
    "\n",
    "conv = 1.609344 # km a millas\n",
    "nombre = input('Cuál es tu nombre? : ')\n",
    "dist_A = int(input('Cuál es la distancia del primer planeta? :'))\n",
    "dist_B = int(input('Cuál es la distancia del segundo planeta? :'))\n",
    "\n",
    "distancia = abs(dist_A-dist_B)\n",
    "\n",
    "print(f'Hola {nombre}, la distancia en km entre los planetas es {distancia}, y en millas es {distancia*conv}')"
   ]
  }
 ],
 "metadata": {
  "interpreter": {
   "hash": "072e6ece12c03a8c8a416be98a144879d642a63e2f6bda67666f5c51fb88dc93"
  },
  "kernelspec": {
   "display_name": "Python 3.8.3 ('base')",
   "language": "python",
   "name": "python3"
  },
  "language_info": {
   "codemirror_mode": {
    "name": "ipython",
    "version": 3
   },
   "file_extension": ".py",
   "mimetype": "text/x-python",
   "name": "python",
   "nbconvert_exporter": "python",
   "pygments_lexer": "ipython3",
   "version": "3.8.3"
  },
  "orig_nbformat": 4
 },
 "nbformat": 4,
 "nbformat_minor": 2
}
