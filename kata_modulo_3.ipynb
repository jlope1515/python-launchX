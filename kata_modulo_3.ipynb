{
 "cells": [
  {
   "cell_type": "markdown",
   "metadata": {},
   "source": [
    "## Ejercicio - Escribir declaraciones if, else, y elif"
   ]
  },
  {
   "cell_type": "code",
   "execution_count": 1,
   "metadata": {},
   "outputs": [
    {
     "name": "stdout",
     "output_type": "stream",
     "text": [
      "Advertencia, asteroide viajando a velocidad peligrosa\n"
     ]
    }
   ],
   "source": [
    "vel_asteroide = 49 #km/h\n",
    "\n",
    "if vel_asteroide>=25:\n",
    "    print('Advertencia, asteroide viajando a velocidad peligrosa')\n",
    "\n",
    "else: print('No existe ninguna amenaza')"
   ]
  },
  {
   "cell_type": "code",
   "execution_count": 2,
   "metadata": {},
   "outputs": [
    {
     "name": "stdout",
     "output_type": "stream",
     "text": [
      "No hay peligro\n"
     ]
    }
   ],
   "source": [
    "velocidad = 19 #km/h\n",
    "\n",
    "if velocidad>=20:\n",
    "    print('Alerta de asteroide en el cielo')\n",
    "else: print('No hay peligro')"
   ]
  },
  {
   "cell_type": "markdown",
   "metadata": {},
   "source": [
    "## Ejercicio: Uso de operadores and y or"
   ]
  },
  {
   "cell_type": "code",
   "execution_count": 5,
   "metadata": {},
   "outputs": [
    {
     "name": "stdout",
     "output_type": "stream",
     "text": [
      "No hay nada que ver\n"
     ]
    }
   ],
   "source": [
    "vel = 20\n",
    "tam = 200\n",
    "\n",
    "if tam<25:\n",
    "    print('El asteroide se quemará en el ingreso')\n",
    "elif tam>25 and tam<1000:\n",
    "\n",
    "    if vel>20:\n",
    "        print('Advertencia el asteroide causara un resplandor y daño a la tierra')\n",
    "\n",
    "    else: print('No hay nada que ver')"
   ]
  }
 ],
 "metadata": {
  "interpreter": {
   "hash": "072e6ece12c03a8c8a416be98a144879d642a63e2f6bda67666f5c51fb88dc93"
  },
  "kernelspec": {
   "display_name": "Python 3.8.3 ('base')",
   "language": "python",
   "name": "python3"
  },
  "language_info": {
   "codemirror_mode": {
    "name": "ipython",
    "version": 3
   },
   "file_extension": ".py",
   "mimetype": "text/x-python",
   "name": "python",
   "nbconvert_exporter": "python",
   "pygments_lexer": "ipython3",
   "version": "3.8.3"
  },
  "orig_nbformat": 4
 },
 "nbformat": 4,
 "nbformat_minor": 2
}
